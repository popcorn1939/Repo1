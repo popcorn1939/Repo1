{
  "nbformat": 4,
  "nbformat_minor": 0,
  "metadata": {
    "colab": {
      "name": "Colob_begynner_051_arbejde med filerGithubrepo.ipynb",
      "provenance": [],
      "authorship_tag": "ABX9TyNNndaFrtQIUeiPA/iWw/Zo",
      "include_colab_link": true
    },
    "kernelspec": {
      "name": "python3",
      "display_name": "Python 3"
    },
    "language_info": {
      "name": "python"
    }
  },
  "cells": [
    {
      "cell_type": "markdown",
      "metadata": {
        "id": "view-in-github",
        "colab_type": "text"
      },
      "source": [
        "<a href=\"https://colab.research.google.com/github/popcorn1939/Repo1/blob/master/Colob_begynner_051_arbejde_med_filerGithubrepo.ipynb\" target=\"_parent\"><img src=\"https://colab.research.google.com/assets/colab-badge.svg\" alt=\"Open In Colab\"/></a>"
      ]
    },
    {
      "cell_type": "code",
      "execution_count": 1,
      "metadata": {
        "id": "P-ctKJ2RzGaC",
        "colab": {
          "base_uri": "https://localhost:8080/"
        },
        "outputId": "a50b0f4b-15f3-46b8-b6bf-2efa232a276a"
      },
      "outputs": [
        {
          "output_type": "stream",
          "name": "stdout",
          "text": [
            "/content\n"
          ]
        }
      ],
      "source": [
        "!pwd"
      ]
    },
    {
      "cell_type": "code",
      "source": [
        "try:\n",
        "  from google.colab import drive\n",
        "  IN_COLAB=True\n",
        "except:\n",
        "  IN_COLAB=False\n",
        "\n",
        "if IN_COLAB:\n",
        "  print(\"We're running Colab\")"
      ],
      "metadata": {
        "colab": {
          "base_uri": "https://localhost:8080/"
        },
        "id": "H4OSOVcW1jaO",
        "outputId": "95bc1992-d410-404b-c8a0-303fd9c37098"
      },
      "execution_count": 2,
      "outputs": [
        {
          "output_type": "stream",
          "name": "stdout",
          "text": [
            "We're running Colab\n"
          ]
        }
      ]
    },
    {
      "cell_type": "code",
      "source": [
        "if IN_COLAB:\n",
        "  # Mount the Google Drive at mount\n",
        "  mount='/content/gdrive'\n",
        "  print(\"Colab: mounting Google drive on \", mount)\n",
        "\n",
        "  drive.mount(mount)\n",
        "\n",
        "  # Switch to the directory on the Google Drive that you want to use\n",
        "  import os\n",
        "  drive_root = mount + \"/My Drive/Colab Notebooks/exiftool/demo\"\n",
        "  \n",
        "  # Create drive_root if it doesn't exist\n",
        "  create_drive_root = True\n",
        "  if create_drive_root:\n",
        "    print(\"\\nColab: making sure \", drive_root, \" exists.\")\n",
        "    os.makedirs(drive_root, exist_ok=True)\n",
        "  \n",
        "  # Change to the directory\n",
        "  print(\"\\nColab: Changing directory to \", drive_root)\n",
        "  %cd $drive_root"
      ],
      "metadata": {
        "colab": {
          "base_uri": "https://localhost:8080/"
        },
        "id": "7QQANPgh1uSn",
        "outputId": "7cfd603d-2081-406e-e912-160116624ce6"
      },
      "execution_count": 3,
      "outputs": [
        {
          "output_type": "stream",
          "name": "stdout",
          "text": [
            "Colab: mounting Google drive on  /content/gdrive\n",
            "Mounted at /content/gdrive\n",
            "\n",
            "Colab: making sure  /content/gdrive/My Drive/Colab Notebooks/exiftool/demo  exists.\n",
            "\n",
            "Colab: Changing directory to  /content/gdrive/My Drive/Colab Notebooks/exiftool/demo\n",
            "/content/gdrive/My Drive/Colab Notebooks/exiftool/demo\n"
          ]
        }
      ]
    },
    {
      "cell_type": "code",
      "source": [
        "# Verify we're in the correct working directory\n",
        "%pwd"
      ],
      "metadata": {
        "colab": {
          "base_uri": "https://localhost:8080/",
          "height": 35
        },
        "id": "gEnS1z2y2pZB",
        "outputId": "80197f40-58ce-443d-d4d5-07a0fef8a43c"
      },
      "execution_count": 4,
      "outputs": [
        {
          "output_type": "execute_result",
          "data": {
            "text/plain": [
              "'/content/gdrive/MyDrive/Colab Notebooks/exiftool/demo'"
            ],
            "application/vnd.google.colaboratory.intrinsic+json": {
              "type": "string"
            }
          },
          "metadata": {},
          "execution_count": 4
        }
      ]
    },
    {
      "cell_type": "code",
      "source": [
        "# Let's load the working directory from our  public Git repo !\n",
        "repo_url = \"https://github.com/kenperry-public/ML_Fall_2019.git\"\n",
        "\n",
        "repo_url = \"https://github.com/popcorn1939/portfolio.git\"\n",
        "\n",
        "\n",
        "# Clone the repo unless it is already there\n",
        "repo_root = os.path.join(drive_root,\"portfolio\")\n",
        "\n",
        "# Clone or refresh from the repo depending on whether we've cloned before\n",
        "if not os.path.exists( repo_root ):\n",
        "  print(\"Cloning from Git url: \", repo_url)\n",
        "  ! git clone $repo_url\n",
        "else:\n",
        "  print(\"Refreshing from Git url: \", repo_url)\n",
        "  %cd $repo_root\n",
        "  ! git pull\n",
        "\n",
        "\n",
        "print(\"\\nChange working directory to repo root\")\n",
        "%cd $repo_root"
      ],
      "metadata": {
        "colab": {
          "base_uri": "https://localhost:8080/"
        },
        "id": "-ZQcLUJz24vj",
        "outputId": "bc3ba038-0a57-4e13-c2d9-592a544a3791"
      },
      "execution_count": 5,
      "outputs": [
        {
          "output_type": "stream",
          "name": "stdout",
          "text": [
            "Cloning from Git url:  https://github.com/popcorn1939/portfolio.git\n",
            "Cloning into 'portfolio'...\n",
            "remote: Enumerating objects: 3, done.\u001b[K\n",
            "remote: Counting objects: 100% (3/3), done.\u001b[K\n",
            "remote: Total 3 (delta 0), reused 3 (delta 0), pack-reused 0\u001b[K\n",
            "Unpacking objects: 100% (3/3), done.\n",
            "\n",
            "Change working directory to repo root\n",
            "/content/gdrive/My Drive/Colab Notebooks/exiftool/demo/portfolio\n"
          ]
        }
      ]
    }
  ]
}