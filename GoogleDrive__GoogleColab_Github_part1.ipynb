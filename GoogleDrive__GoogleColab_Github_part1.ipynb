{
  "nbformat": 4,
  "nbformat_minor": 0,
  "metadata": {
    "colab": {
      "name": "GoogleDrive_ GoogleColab_Github_part1.ipynb",
      "provenance": [],
      "authorship_tag": "ABX9TyNUBgBLZDKtsYuPN7j5RyB4",
      "include_colab_link": true
    },
    "kernelspec": {
      "name": "python3",
      "display_name": "Python 3"
    },
    "language_info": {
      "name": "python"
    }
  },
  "cells": [
    {
      "cell_type": "markdown",
      "metadata": {
        "id": "view-in-github",
        "colab_type": "text"
      },
      "source": [
        "<a href=\"https://colab.research.google.com/github/popcorn1939/Repo1/blob/master/GoogleDrive__GoogleColab_Github_part1.ipynb\" target=\"_parent\"><img src=\"https://colab.research.google.com/assets/colab-badge.svg\" alt=\"Open In Colab\"/></a>"
      ]
    },
    {
      "cell_type": "code",
      "execution_count": null,
      "metadata": {
        "id": "oRwfFMdkfX1q"
      },
      "outputs": [],
      "source": [
        ""
      ]
    },
    {
      "cell_type": "markdown",
      "source": [
        "# Google Drive + Google Colab + GitHub; Don’t Just Read, Do It!\n",
        "\n",
        "How GitHub, Google Colab, and Google Drive work together; How to deal with custom files, and push Jupyter notebook changes to GitHub...\n",
        "\n",
        "<Put bilde her av googledrive_golab_githutforkedrepo.png>"
      ],
      "metadata": {
        "id": "v8z165NrgSfa"
      }
    },
    {
      "cell_type": "markdown",
      "source": [
        "Google Colab has been suggested in the Slack community. It has a pre-set-up environment for the Jupyter notebook which runs entirely on the cloud (my laptop is very grateful 🐌). Most importantly, It provides “FREE” GPUs (Graphics Processing Unit).\n",
        "\n",
        "The goal of this article is to understand:\n",
        "\n",
        "* How to integrate Github repo to Google Colab (with steps provided)\n",
        "\n",
        "* How to deal with custom Python files\n",
        "* How to save your changes on Jupyter notebooks to different branches, and keep master branch clean.\n",
        "\n"
      ],
      "metadata": {
        "id": "4_Ie5YxriID4"
      }
    }
  ]
}